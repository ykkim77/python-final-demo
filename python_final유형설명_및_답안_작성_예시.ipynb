{
  "nbformat": 4,
  "nbformat_minor": 0,
  "metadata": {
    "colab": {
      "name": "python-final유형설명 및 답안 작성 예시.ipynb",
      "provenance": [],
      "collapsed_sections": [],
      "authorship_tag": "ABX9TyPu/C61wuvGZKuUxPnhuTR4",
      "include_colab_link": true
    },
    "kernelspec": {
      "name": "python3",
      "display_name": "Python 3"
    },
    "language_info": {
      "name": "python"
    }
  },
  "cells": [
    {
      "cell_type": "markdown",
      "metadata": {
        "id": "view-in-github",
        "colab_type": "text"
      },
      "source": [
        "<a href=\"https://colab.research.google.com/github/ykkim77/python-final-demo/blob/main/python_final%EC%9C%A0%ED%98%95%EC%84%A4%EB%AA%85_%EB%B0%8F_%EB%8B%B5%EC%95%88_%EC%9E%91%EC%84%B1_%EC%98%88%EC%8B%9C.ipynb\" target=\"_parent\"><img src=\"https://colab.research.google.com/assets/colab-badge.svg\" alt=\"Open In Colab\"/></a>"
      ]
    },
    {
      "cell_type": "markdown",
      "metadata": {
        "id": "TQggtlLF-huA"
      },
      "source": [
        "# **파이썬 프로그래밍 기말고사 유형 소개 및 답안 작성 예시**\n",
        "\n"
      ]
    },
    {
      "cell_type": "markdown",
      "metadata": {
        "id": "OtG7xx1d_S9S"
      },
      "source": [
        "기말 고사 유의 사항\n",
        "\n",
        "1. 문제의 답안을 함수로 작성하되, 반드시 함수 이름은 문제에서 제시하는 함수명으로 할것 (답안은 함수만 정의해서 제출해도 됨)\n",
        "1. 함수에는 매개변수 입력과 반환이 반드시 있어야 함\n",
        "1. 코드 작성이 끝난 파일은 개별적으로 함수를 호출해서 검수를 거쳐 정답이 맞는지 확인할 것\n",
        "1. 작성된 답안은 상단 메뉴의 파일--> 다운로드 --> .py 로 다운 받아 학교 LMS 에 제출할 것\n",
        "1. 파일의 이름은 자신의 학번.py      예) 학번이 2021111000 일 경우,     2021111000.py 파일을 제출\n",
        "1. 코드는 자동 채점이 되며, 코드의 유사도 검증을 통해 코드가 타 학생과 유사도가 높을 경우 감점 (절대로 문제의 답안을 타 학생과 공유 금지)"
      ]
    },
    {
      "cell_type": "markdown",
      "metadata": {
        "id": "G8s27iEOeMOd"
      },
      "source": [
        "# 문제 1)"
      ]
    },
    {
      "cell_type": "markdown",
      "metadata": {
        "id": "lhpvyiXLeu-1"
      },
      "source": [
        "\n",
        "* 영문 문자열을 함수의 입력으로 받으면, 모두 대문자로 반환하는 함수를 작성하시오.\n",
        "\n",
        "* 예1) \n",
        " * 입력(문자열) : \"abc\" <br>\n",
        " * 반환(문자열) : \"ABC\"\n",
        "\n",
        "\n",
        "* 예2)\n",
        "\n",
        " * 입력(문자열): \"ABCDd\" <br>\n",
        " * 반환(문자열): \"ABCDD\"\n",
        "\n",
        "\n",
        "\n",
        "\n",
        "* 함수 이름: exam1<br>      (반드시 함수 이름을 exam1로 작성할것!!)\n",
        "\n",
        "* 함수 작성 힌트 <br>\n",
        "\n",
        "\n",
        "\n",
        "```\n",
        "def exam1(a):\n",
        "    b = a의 문자열을 모두 대문자로 바꾸기\n",
        "    return b\n",
        "```"
      ]
    },
    {
      "cell_type": "markdown",
      "metadata": {
        "id": "8jK1Wz8Or-Cu"
      },
      "source": [
        "**답안**"
      ]
    },
    {
      "cell_type": "code",
      "metadata": {
        "colab": {
          "base_uri": "https://localhost:8080/"
        },
        "id": "1OMEEaBQ8MRL",
        "outputId": "a7a1eab8-abfc-4d5e-9f36-c115c677b8c0"
      },
      "source": [
        "def exam1(s):\n",
        "    return s.upper()"
      ],
      "execution_count": null,
      "outputs": [
        {
          "output_type": "stream",
          "text": [
            "ABCDD\n"
          ],
          "name": "stdout"
        }
      ]
    },
    {
      "cell_type": "markdown",
      "metadata": {
        "id": "X1GukuNA-vPR"
      },
      "source": [
        "## 문제 2)"
      ]
    },
    {
      "cell_type": "markdown",
      "metadata": {
        "id": "kK4fr_Gm5oCl"
      },
      "source": [
        "* 휴대폰 번호 앞자리에 따라 통신사는 아래와 같이 구분된다. 사용자로부터 휴대전화 번호를 함수의 입력 받고, 통신사를 반환하는 함수를 작성하여라\n",
        "\n",
        "\n",
        "![Cap 2021-05-29 20-47-36-405.jpg](data:image/jpeg;base64,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)\n",
        "\n",
        "\n",
        "\n",
        "* 예1) \n",
        " * 입력(문자열) : \"011-3321-1123\" <br>\n",
        " * 반환(문자열) : \"SKT\"\n",
        "\n",
        "\n",
        "* 예2)\n",
        "\n",
        " * 입력(문자열): \"016-5512-5545\" <br>\n",
        " * 반환(문자열): \"KT\"\n",
        "\n",
        "\n",
        "\n",
        "\n",
        "* 함수 이름: exam2 <br>      (반드시 함수 이름을 exam2로 작성할것!!)\n",
        "\n",
        "* 함수 작성 힌트 <br>\n",
        "\n",
        "\n",
        "\n",
        "```\n",
        "def exam2(a):\n",
        "    b = -를 기준으로 문자열을 split 한 다음 가장 앞에 잘려진 문자열을 조건문으로 검수\n",
        "    return b\n",
        "```\n",
        "\n",
        "\n",
        "\n"
      ]
    },
    {
      "cell_type": "markdown",
      "metadata": {
        "id": "MddmPv5UsBxj"
      },
      "source": [
        "**답안**"
      ]
    },
    {
      "cell_type": "code",
      "metadata": {
        "id": "kX9xY63-5j5p",
        "colab": {
          "base_uri": "https://localhost:8080/"
        },
        "outputId": "4a38716d-ece9-45f1-bdbe-8e4de10f0cbb"
      },
      "source": [
        "def exam2(a):\n",
        "    num = a.split(\"-\")\n",
        "    num1 = num[0]\n",
        "\n",
        "    if num1 == \"011\":\n",
        "        com = \"SKT\"\n",
        "    elif num1 == \"016\":\n",
        "        com = \"KT\"\n",
        "    elif num1 == \"019\":\n",
        "        com = \"LGU\"\n",
        "    elif num1 == \"010\":\n",
        "        com = \"알수없음\"\n",
        "    return com\n",
        "\n"
      ],
      "execution_count": null,
      "outputs": [
        {
          "output_type": "stream",
          "text": [
            "알수없음\n"
          ],
          "name": "stdout"
        }
      ]
    }
  ]
}